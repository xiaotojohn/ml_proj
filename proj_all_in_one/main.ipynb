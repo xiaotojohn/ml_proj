{
 "cells": [
  {
   "cell_type": "code",
   "execution_count": 60,
   "metadata": {},
   "outputs": [],
   "source": [
    "## Import necessary libraries\n",
    "import pandas as pd\n",
    "import numpy as np\n",
    "from sklearn.model_selection import train_test_split\n",
    "from sklearn.pipeline import Pipeline\n",
    "from sklearn.impute import SimpleImputer\n",
    "from sklearn.preprocessing import OneHotEncoder\n",
    "from sklearn.dummy import DummyClassifier\n",
    "from sklearn.model_selection import RandomizedSearchCV\n",
    "from scipy.stats import randint, loguniform\n",
    "from sklearn.feature_extraction.text import CountVectorizer\n",
    "from sklearn.feature_extraction.text import TfidfVectorizer\n",
    "from sklearn.linear_model import LogisticRegression\n",
    "from sklearn.tree import DecisionTreeClassifier\n",
    "from sklearn.ensemble import RandomForestClassifier\n",
    "from sklearn.naive_bayes import MultinomialNB\n",
    "from sklearn.metrics import classification_report"
   ]
  },
  {
   "cell_type": "markdown",
   "metadata": {},
   "source": [
    "## Explanatory Analysis"
   ]
  },
  {
   "cell_type": "code",
   "execution_count": 61,
   "metadata": {},
   "outputs": [],
   "source": [
    "wine_pd = pd.read_csv('winemag-data-130k-v2.csv')"
   ]
  },
  {
   "cell_type": "code",
   "execution_count": 62,
   "metadata": {},
   "outputs": [
    {
     "name": "stdout",
     "output_type": "stream",
     "text": [
      "<class 'pandas.core.frame.DataFrame'>\n",
      "RangeIndex: 129971 entries, 0 to 129970\n",
      "Data columns (total 14 columns):\n",
      " #   Column                 Non-Null Count   Dtype  \n",
      "---  ------                 --------------   -----  \n",
      " 0   Unnamed: 0             129971 non-null  int64  \n",
      " 1   country                129908 non-null  object \n",
      " 2   description            129971 non-null  object \n",
      " 3   designation            92506 non-null   object \n",
      " 4   points                 129971 non-null  int64  \n",
      " 5   price                  120975 non-null  float64\n",
      " 6   province               129908 non-null  object \n",
      " 7   region_1               108724 non-null  object \n",
      " 8   region_2               50511 non-null   object \n",
      " 9   taster_name            103727 non-null  object \n",
      " 10  taster_twitter_handle  98758 non-null   object \n",
      " 11  title                  129971 non-null  object \n",
      " 12  variety                129970 non-null  object \n",
      " 13  winery                 129971 non-null  object \n",
      "dtypes: float64(1), int64(2), object(11)\n",
      "memory usage: 13.9+ MB\n"
     ]
    }
   ],
   "source": [
    "wine_pd.info()"
   ]
  },
  {
   "cell_type": "code",
   "execution_count": 63,
   "metadata": {},
   "outputs": [
    {
     "data": {
      "text/html": [
       "<div>\n",
       "<style scoped>\n",
       "    .dataframe tbody tr th:only-of-type {\n",
       "        vertical-align: middle;\n",
       "    }\n",
       "\n",
       "    .dataframe tbody tr th {\n",
       "        vertical-align: top;\n",
       "    }\n",
       "\n",
       "    .dataframe thead th {\n",
       "        text-align: right;\n",
       "    }\n",
       "</style>\n",
       "<table border=\"1\" class=\"dataframe\">\n",
       "  <thead>\n",
       "    <tr style=\"text-align: right;\">\n",
       "      <th></th>\n",
       "      <th>country</th>\n",
       "      <th>description</th>\n",
       "      <th>designation</th>\n",
       "      <th>province</th>\n",
       "      <th>region_1</th>\n",
       "      <th>region_2</th>\n",
       "      <th>taster_name</th>\n",
       "      <th>taster_twitter_handle</th>\n",
       "      <th>title</th>\n",
       "      <th>variety</th>\n",
       "      <th>winery</th>\n",
       "    </tr>\n",
       "  </thead>\n",
       "  <tbody>\n",
       "    <tr>\n",
       "      <th>count</th>\n",
       "      <td>129908</td>\n",
       "      <td>129971</td>\n",
       "      <td>92506</td>\n",
       "      <td>129908</td>\n",
       "      <td>108724</td>\n",
       "      <td>50511</td>\n",
       "      <td>103727</td>\n",
       "      <td>98758</td>\n",
       "      <td>129971</td>\n",
       "      <td>129970</td>\n",
       "      <td>129971</td>\n",
       "    </tr>\n",
       "    <tr>\n",
       "      <th>unique</th>\n",
       "      <td>43</td>\n",
       "      <td>119955</td>\n",
       "      <td>37979</td>\n",
       "      <td>425</td>\n",
       "      <td>1229</td>\n",
       "      <td>17</td>\n",
       "      <td>19</td>\n",
       "      <td>15</td>\n",
       "      <td>118840</td>\n",
       "      <td>707</td>\n",
       "      <td>16757</td>\n",
       "    </tr>\n",
       "    <tr>\n",
       "      <th>top</th>\n",
       "      <td>US</td>\n",
       "      <td>Seductively tart in lemon pith, cranberry and ...</td>\n",
       "      <td>Reserve</td>\n",
       "      <td>California</td>\n",
       "      <td>Napa Valley</td>\n",
       "      <td>Central Coast</td>\n",
       "      <td>Roger Voss</td>\n",
       "      <td>@vossroger</td>\n",
       "      <td>Gloria Ferrer NV Sonoma Brut Sparkling (Sonoma...</td>\n",
       "      <td>Pinot Noir</td>\n",
       "      <td>Wines &amp; Winemakers</td>\n",
       "    </tr>\n",
       "    <tr>\n",
       "      <th>freq</th>\n",
       "      <td>54504</td>\n",
       "      <td>3</td>\n",
       "      <td>2009</td>\n",
       "      <td>36247</td>\n",
       "      <td>4480</td>\n",
       "      <td>11065</td>\n",
       "      <td>25514</td>\n",
       "      <td>25514</td>\n",
       "      <td>11</td>\n",
       "      <td>13272</td>\n",
       "      <td>222</td>\n",
       "    </tr>\n",
       "  </tbody>\n",
       "</table>\n",
       "</div>"
      ],
      "text/plain": [
       "       country                                        description designation  \\\n",
       "count   129908                                             129971       92506   \n",
       "unique      43                                             119955       37979   \n",
       "top         US  Seductively tart in lemon pith, cranberry and ...     Reserve   \n",
       "freq     54504                                                  3        2009   \n",
       "\n",
       "          province     region_1       region_2 taster_name  \\\n",
       "count       129908       108724          50511      103727   \n",
       "unique         425         1229             17          19   \n",
       "top     California  Napa Valley  Central Coast  Roger Voss   \n",
       "freq         36247         4480          11065       25514   \n",
       "\n",
       "       taster_twitter_handle  \\\n",
       "count                  98758   \n",
       "unique                    15   \n",
       "top               @vossroger   \n",
       "freq                   25514   \n",
       "\n",
       "                                                    title     variety  \\\n",
       "count                                              129971      129970   \n",
       "unique                                             118840         707   \n",
       "top     Gloria Ferrer NV Sonoma Brut Sparkling (Sonoma...  Pinot Noir   \n",
       "freq                                                   11       13272   \n",
       "\n",
       "                    winery  \n",
       "count               129971  \n",
       "unique               16757  \n",
       "top     Wines & Winemakers  \n",
       "freq                   222  "
      ]
     },
     "execution_count": 63,
     "metadata": {},
     "output_type": "execute_result"
    }
   ],
   "source": [
    "wine_pd.describe(include='object')"
   ]
  },
  {
   "cell_type": "code",
   "execution_count": 64,
   "metadata": {},
   "outputs": [
    {
     "data": {
      "text/html": [
       "<div>\n",
       "<style scoped>\n",
       "    .dataframe tbody tr th:only-of-type {\n",
       "        vertical-align: middle;\n",
       "    }\n",
       "\n",
       "    .dataframe tbody tr th {\n",
       "        vertical-align: top;\n",
       "    }\n",
       "\n",
       "    .dataframe thead th {\n",
       "        text-align: right;\n",
       "    }\n",
       "</style>\n",
       "<table border=\"1\" class=\"dataframe\">\n",
       "  <thead>\n",
       "    <tr style=\"text-align: right;\">\n",
       "      <th></th>\n",
       "      <th>Unnamed: 0</th>\n",
       "      <th>points</th>\n",
       "      <th>price</th>\n",
       "    </tr>\n",
       "  </thead>\n",
       "  <tbody>\n",
       "    <tr>\n",
       "      <th>count</th>\n",
       "      <td>129971.000000</td>\n",
       "      <td>129971.000000</td>\n",
       "      <td>120975.000000</td>\n",
       "    </tr>\n",
       "    <tr>\n",
       "      <th>mean</th>\n",
       "      <td>64985.000000</td>\n",
       "      <td>88.447138</td>\n",
       "      <td>35.363389</td>\n",
       "    </tr>\n",
       "    <tr>\n",
       "      <th>std</th>\n",
       "      <td>37519.540256</td>\n",
       "      <td>3.039730</td>\n",
       "      <td>41.022218</td>\n",
       "    </tr>\n",
       "    <tr>\n",
       "      <th>min</th>\n",
       "      <td>0.000000</td>\n",
       "      <td>80.000000</td>\n",
       "      <td>4.000000</td>\n",
       "    </tr>\n",
       "    <tr>\n",
       "      <th>25%</th>\n",
       "      <td>32492.500000</td>\n",
       "      <td>86.000000</td>\n",
       "      <td>17.000000</td>\n",
       "    </tr>\n",
       "    <tr>\n",
       "      <th>50%</th>\n",
       "      <td>64985.000000</td>\n",
       "      <td>88.000000</td>\n",
       "      <td>25.000000</td>\n",
       "    </tr>\n",
       "    <tr>\n",
       "      <th>75%</th>\n",
       "      <td>97477.500000</td>\n",
       "      <td>91.000000</td>\n",
       "      <td>42.000000</td>\n",
       "    </tr>\n",
       "    <tr>\n",
       "      <th>max</th>\n",
       "      <td>129970.000000</td>\n",
       "      <td>100.000000</td>\n",
       "      <td>3300.000000</td>\n",
       "    </tr>\n",
       "  </tbody>\n",
       "</table>\n",
       "</div>"
      ],
      "text/plain": [
       "          Unnamed: 0         points          price\n",
       "count  129971.000000  129971.000000  120975.000000\n",
       "mean    64985.000000      88.447138      35.363389\n",
       "std     37519.540256       3.039730      41.022218\n",
       "min         0.000000      80.000000       4.000000\n",
       "25%     32492.500000      86.000000      17.000000\n",
       "50%     64985.000000      88.000000      25.000000\n",
       "75%     97477.500000      91.000000      42.000000\n",
       "max    129970.000000     100.000000    3300.000000"
      ]
     },
     "execution_count": 64,
     "metadata": {},
     "output_type": "execute_result"
    }
   ],
   "source": [
    "wine_pd.describe(include=[np.number])"
   ]
  },
  {
   "cell_type": "code",
   "execution_count": 65,
   "metadata": {},
   "outputs": [],
   "source": [
    "# Split the data into train and test\n",
    "train_df, test_df = train_test_split(wine_pd, test_size=0.2, random_state=42)\n"
   ]
  },
  {
   "cell_type": "code",
   "execution_count": 66,
   "metadata": {},
   "outputs": [
    {
     "data": {
      "image/png": "[encoded data removed]",
      "text/plain": [
       "<Figure size 2000x1000 with 4 Axes>"
      ]
     },
     "metadata": {},
     "output_type": "display_data"
    }
   ],
   "source": [
    "import matplotlib.pyplot as plt\n",
    "import seaborn as sns\n",
    "\n",
    "# Create the Description Set and its corresponding target set\n",
    "X_train_d = train_df['description']\n",
    "X_test_d = test_df['description']\n",
    "\n",
    "\n",
    "# Drop the unnecessary columns and create the major features X and target y\n",
    "\n",
    "X_train = train_df.drop(columns=['points'])\n",
    "X_test = test_df.drop(columns=['points'])\n",
    "# Create the target set\n",
    "y_train = train_df['points']\n",
    "y_test = test_df['points']\n",
    "\n",
    "X_train.head()\n",
    "X_train.describe(include='object')\n",
    "\n",
    "# Setting up the visualizations\n",
    "plt.figure(figsize=(20, 10))\n",
    "\n",
    "# Distribution of the target variable (wine scores)\n",
    "plt.subplot(2, 2, 1)\n",
    "sns.histplot(y_train, bins=20, kde=True)\n",
    "plt.title('Distribution of Wine Scores')\n",
    "\n",
    "# Relationship between price and points in the training set\n",
    "# Note: We'll need to handle missing values in 'price' for plotting\n",
    "plt.subplot(2, 2, 2)\n",
    "sns.scatterplot(x=X_train['price'].fillna(X_train['price'].median()), y=y_train)\n",
    "plt.title('Price vs. Wine Scores')\n",
    "plt.xlabel('Price')\n",
    "plt.ylabel('Score')\n",
    "\n",
    "# Distribution of wines by country\n",
    "plt.subplot(2, 2, 3)\n",
    "country_counts = X_train['country'].value_counts().head(10)  # Top 10 countries\n",
    "sns.barplot(x=country_counts.index, y=country_counts.values)\n",
    "plt.title('Top 10 Countries by Wine Count')\n",
    "plt.xticks(rotation=45)\n",
    "\n",
    "# Distribution of wines by variety\n",
    "plt.subplot(2, 2, 4)\n",
    "variety_counts = X_train['variety'].value_counts().head(10)  # Top 10 varieties\n",
    "sns.barplot(x=variety_counts.index, y=variety_counts.values)\n",
    "plt.title('Top 10 Wine Varieties by Count')\n",
    "plt.xticks(rotation=45)\n",
    "\n",
    "plt.tight_layout()\n",
    "plt.show()"
   ]
  },
  {
   "cell_type": "markdown",
   "metadata": {},
   "source": [
    "We noticed that the points distribution is likely to be normal, with an average close to 88, thus we chose 88 as it marks the top 50% percent of wines, which we regard as premium wines."
   ]
  },
  {
   "cell_type": "markdown",
   "metadata": {},
   "source": [
    "### Feature Selection After EDA"
   ]
  },
  {
   "cell_type": "code",
   "execution_count": 67,
   "metadata": {},
   "outputs": [
    {
     "data": {
      "text/html": [
       "<div>\n",
       "<style scoped>\n",
       "    .dataframe tbody tr th:only-of-type {\n",
       "        vertical-align: middle;\n",
       "    }\n",
       "\n",
       "    .dataframe tbody tr th {\n",
       "        vertical-align: top;\n",
       "    }\n",
       "\n",
       "    .dataframe thead th {\n",
       "        text-align: right;\n",
       "    }\n",
       "</style>\n",
       "<table border=\"1\" class=\"dataframe\">\n",
       "  <thead>\n",
       "    <tr style=\"text-align: right;\">\n",
       "      <th></th>\n",
       "      <th>country</th>\n",
       "      <th>province</th>\n",
       "      <th>region_1</th>\n",
       "      <th>variety</th>\n",
       "      <th>winery</th>\n",
       "    </tr>\n",
       "  </thead>\n",
       "  <tbody>\n",
       "    <tr>\n",
       "      <th>count</th>\n",
       "      <td>103924</td>\n",
       "      <td>103924</td>\n",
       "      <td>86980</td>\n",
       "      <td>103975</td>\n",
       "      <td>103976</td>\n",
       "    </tr>\n",
       "    <tr>\n",
       "      <th>unique</th>\n",
       "      <td>43</td>\n",
       "      <td>413</td>\n",
       "      <td>1196</td>\n",
       "      <td>668</td>\n",
       "      <td>15807</td>\n",
       "    </tr>\n",
       "    <tr>\n",
       "      <th>top</th>\n",
       "      <td>US</td>\n",
       "      <td>California</td>\n",
       "      <td>Napa Valley</td>\n",
       "      <td>Pinot Noir</td>\n",
       "      <td>Testarossa</td>\n",
       "    </tr>\n",
       "    <tr>\n",
       "      <th>freq</th>\n",
       "      <td>43677</td>\n",
       "      <td>29099</td>\n",
       "      <td>3599</td>\n",
       "      <td>10658</td>\n",
       "      <td>176</td>\n",
       "    </tr>\n",
       "  </tbody>\n",
       "</table>\n",
       "</div>"
      ],
      "text/plain": [
       "       country    province     region_1     variety      winery\n",
       "count   103924      103924        86980      103975      103976\n",
       "unique      43         413         1196         668       15807\n",
       "top         US  California  Napa Valley  Pinot Noir  Testarossa\n",
       "freq     43677       29099         3599       10658         176"
      ]
     },
     "execution_count": 67,
     "metadata": {},
     "output_type": "execute_result"
    }
   ],
   "source": [
    "# discretize the points into 2 categories: 0 for points <= threshold and 1 for points > threshold(considered as premium wine)\n",
    "threshold = 88\n",
    "train_df['points'] = train_df['points'].apply(lambda x: 1 if x > threshold else 0)\n",
    "test_df['points'] = test_df['points'].apply(lambda x: 1 if x > threshold else 0)\n",
    "\n",
    "# Create the Description Set and its corresponding target set\n",
    "X_train_d = train_df['description']\n",
    "X_test_d = test_df['description']\n",
    "\n",
    "\n",
    "# Drop the unnecessary columns and create the major features X and target y\n",
    "\n",
    "X_train = train_df.drop(columns=['points', 'description', 'taster_name', 'taster_twitter_handle', 'title', 'region_2', 'Unnamed: 0','price','designation'])\n",
    "X_test = test_df.drop(columns=['points', 'description', 'taster_name', 'taster_twitter_handle', 'title', 'region_2', 'Unnamed: 0','price','designation'])\n",
    "# Create the target set\n",
    "y_train = train_df['points']\n",
    "y_test = test_df['points']\n",
    "\n",
    "X_train.head()\n",
    "X_train.describe(include='object')"
   ]
  },
  {
   "cell_type": "code",
   "execution_count": 68,
   "metadata": {},
   "outputs": [
    {
     "data": {
      "text/html": [
       "<div>\n",
       "<style scoped>\n",
       "    .dataframe tbody tr th:only-of-type {\n",
       "        vertical-align: middle;\n",
       "    }\n",
       "\n",
       "    .dataframe tbody tr th {\n",
       "        vertical-align: top;\n",
       "    }\n",
       "\n",
       "    .dataframe thead th {\n",
       "        text-align: right;\n",
       "    }\n",
       "</style>\n",
       "<table border=\"1\" class=\"dataframe\">\n",
       "  <thead>\n",
       "    <tr style=\"text-align: right;\">\n",
       "      <th></th>\n",
       "      <th>country</th>\n",
       "      <th>province</th>\n",
       "      <th>region_1</th>\n",
       "      <th>variety</th>\n",
       "      <th>winery</th>\n",
       "    </tr>\n",
       "  </thead>\n",
       "  <tbody>\n",
       "    <tr>\n",
       "      <th>count</th>\n",
       "      <td>103924</td>\n",
       "      <td>103924</td>\n",
       "      <td>86980</td>\n",
       "      <td>103975</td>\n",
       "      <td>103976</td>\n",
       "    </tr>\n",
       "    <tr>\n",
       "      <th>unique</th>\n",
       "      <td>43</td>\n",
       "      <td>413</td>\n",
       "      <td>1196</td>\n",
       "      <td>668</td>\n",
       "      <td>15807</td>\n",
       "    </tr>\n",
       "    <tr>\n",
       "      <th>top</th>\n",
       "      <td>US</td>\n",
       "      <td>California</td>\n",
       "      <td>Napa Valley</td>\n",
       "      <td>Pinot Noir</td>\n",
       "      <td>Testarossa</td>\n",
       "    </tr>\n",
       "    <tr>\n",
       "      <th>freq</th>\n",
       "      <td>43677</td>\n",
       "      <td>29099</td>\n",
       "      <td>3599</td>\n",
       "      <td>10658</td>\n",
       "      <td>176</td>\n",
       "    </tr>\n",
       "  </tbody>\n",
       "</table>\n",
       "</div>"
      ],
      "text/plain": [
       "       country    province     region_1     variety      winery\n",
       "count   103924      103924        86980      103975      103976\n",
       "unique      43         413         1196         668       15807\n",
       "top         US  California  Napa Valley  Pinot Noir  Testarossa\n",
       "freq     43677       29099         3599       10658         176"
      ]
     },
     "execution_count": 68,
     "metadata": {},
     "output_type": "execute_result"
    }
   ],
   "source": [
    "X_train.describe(include=\"object\")"
   ]
  },
  {
   "cell_type": "code",
   "execution_count": 69,
   "metadata": {},
   "outputs": [
    {
     "data": {
      "text/plain": [
       "[points\n",
       " 0    55003\n",
       " 1    48973\n",
       " Name: count, dtype: int64,\n",
       " points\n",
       " 0    13697\n",
       " 1    12298\n",
       " Name: count, dtype: int64]"
      ]
     },
     "execution_count": 69,
     "metadata": {},
     "output_type": "execute_result"
    }
   ],
   "source": [
    "[y_train.value_counts() ,y_test.value_counts()]"
   ]
  },
  {
   "cell_type": "markdown",
   "metadata": {},
   "source": [
    "## Feature Preprocessing"
   ]
  },
  {
   "cell_type": "markdown",
   "metadata": {},
   "source": [
    "### Major Features Preprocessing Pipeline"
   ]
  },
  {
   "cell_type": "code",
   "execution_count": 70,
   "metadata": {},
   "outputs": [],
   "source": [
    "from sklearn.compose import ColumnTransformer"
   ]
  },
  {
   "cell_type": "code",
   "execution_count": 71,
   "metadata": {},
   "outputs": [
    {
     "data": {
      "text/plain": [
       "['country', 'province', 'region_1', 'variety', 'winery']"
      ]
     },
     "execution_count": 71,
     "metadata": {},
     "output_type": "execute_result"
    }
   ],
   "source": [
    "categorical_features = X_train.select_dtypes(include=['object']).columns.tolist()\n",
    "\n",
    "categorical_features"
   ]
  },
  {
   "cell_type": "code",
   "execution_count": 72,
   "metadata": {},
   "outputs": [],
   "source": [
    "# numeric_transformer = Pipeline([('scaler', StandardScaler()),('imputer', SimpleImputer(strategy='most_frequent'))])\n",
    "\n",
    "# Define the categorical transformer\n",
    "categorical_transformer = Pipeline([\n",
    "    ('imputer', SimpleImputer(strategy=\"most_frequent\", fill_value=\"missing\")),\n",
    "    ('onehot', OneHotEncoder(handle_unknown='ignore'))\n",
    "])\n",
    "\n",
    "# Create the column transformer\n",
    "col_transformer = ColumnTransformer([\n",
    "    # ('num', numeric_transformer, numeric_features),\n",
    "    ('cat', categorical_transformer, categorical_features)\n",
    "])\n",
    "\n"
   ]
  },
  {
   "cell_type": "markdown",
   "metadata": {},
   "source": [
    "## Hyparameter Tuning and Model Selection"
   ]
  },
  {
   "cell_type": "markdown",
   "metadata": {},
   "source": [
    "### Models for Major Features"
   ]
  },
  {
   "cell_type": "markdown",
   "metadata": {},
   "source": [
    "#### Dummy Classifier"
   ]
  },
  {
   "cell_type": "code",
   "execution_count": 73,
   "metadata": {},
   "outputs": [],
   "source": [
    "# dummyclassifier\n",
    "\n",
    "dummy = Pipeline([\n",
    "    ('columntransformer', col_transformer),\n",
    "    ('classifier', DummyClassifier(strategy='stratified'))\n",
    "])\n",
    "\n",
    "dummy.fit(X_train, y_train)\n",
    "\n",
    "dummy_score = dummy.score(X_test, y_test)\n",
    "\n",
    "dummy_report =  classification_report(y_test, dummy.predict(X_test))"
   ]
  },
  {
   "cell_type": "markdown",
   "metadata": {},
   "source": [
    "#### Decision Tree"
   ]
  },
  {
   "cell_type": "code",
   "execution_count": 74,
   "metadata": {},
   "outputs": [
    {
     "data": {
      "text/html": [
       "<style>#sk-container-id-3 {color: black;}#sk-container-id-3 pre{padding: 0;}#sk-container-id-3 div.sk-toggleable {background-color: white;}#sk-container-id-3 label.sk-toggleable__label {cursor: pointer;display: block;width: 100%;margin-bottom: 0;padding: 0.3em;box-sizing: border-box;text-align: center;}#sk-container-id-3 label.sk-toggleable__label-arrow:before {content: \"▸\";float: left;margin-right: 0.25em;color: #696969;}#sk-container-id-3 label.sk-toggleable__label-arrow:hover:before {color: black;}#sk-container-id-3 div.sk-estimator:hover label.sk-toggleable__label-arrow:before {color: black;}#sk-container-id-3 div.sk-toggleable__content {max-height: 0;max-width: 0;overflow: hidden;text-align: left;background-color: #f0f8ff;}#sk-container-id-3 div.sk-toggleable__content pre {margin: 0.2em;color: black;border-radius: 0.25em;background-color: #f0f8ff;}#sk-container-id-3 input.sk-toggleable__control:checked~div.sk-toggleable__content {max-height: 200px;max-width: 100%;overflow: auto;}#sk-container-id-3 input.sk-toggleable__control:checked~label.sk-toggleable__label-arrow:before {content: \"▾\";}#sk-container-id-3 div.sk-estimator input.sk-toggleable__control:checked~label.sk-toggleable__label {background-color: #d4ebff;}#sk-container-id-3 div.sk-label input.sk-toggleable__control:checked~label.sk-toggleable__label {background-color: #d4ebff;}#sk-container-id-3 input.sk-hidden--visually {border: 0;clip: rect(1px 1px 1px 1px);clip: rect(1px, 1px, 1px, 1px);height: 1px;margin: -1px;overflow: hidden;padding: 0;position: absolute;width: 1px;}#sk-container-id-3 div.sk-estimator {font-family: monospace;background-color: #f0f8ff;border: 1px dotted black;border-radius: 0.25em;box-sizing: border-box;margin-bottom: 0.5em;}#sk-container-id-3 div.sk-estimator:hover {background-color: #d4ebff;}#sk-container-id-3 div.sk-parallel-item::after {content: \"\";width: 100%;border-bottom: 1px solid gray;flex-grow: 1;}#sk-container-id-3 div.sk-label:hover label.sk-toggleable__label {background-color: #d4ebff;}#sk-container-id-3 div.sk-serial::before {content: \"\";position: absolute;border-left: 1px solid gray;box-sizing: border-box;top: 0;bottom: 0;left: 50%;z-index: 0;}#sk-container-id-3 div.sk-serial {display: flex;flex-direction: column;align-items: center;background-color: white;padding-right: 0.2em;padding-left: 0.2em;position: relative;}#sk-container-id-3 div.sk-item {position: relative;z-index: 1;}#sk-container-id-3 div.sk-parallel {display: flex;align-items: stretch;justify-content: center;background-color: white;position: relative;}#sk-container-id-3 div.sk-item::before, #sk-container-id-3 div.sk-parallel-item::before {content: \"\";position: absolute;border-left: 1px solid gray;box-sizing: border-box;top: 0;bottom: 0;left: 50%;z-index: -1;}#sk-container-id-3 div.sk-parallel-item {display: flex;flex-direction: column;z-index: 1;position: relative;background-color: white;}#sk-container-id-3 div.sk-parallel-item:first-child::after {align-self: flex-end;width: 50%;}#sk-container-id-3 div.sk-parallel-item:last-child::after {align-self: flex-start;width: 50%;}#sk-container-id-3 div.sk-parallel-item:only-child::after {width: 0;}#sk-container-id-3 div.sk-dashed-wrapped {border: 1px dashed gray;margin: 0 0.4em 0.5em 0.4em;box-sizing: border-box;padding-bottom: 0.4em;background-color: white;}#sk-container-id-3 div.sk-label label {font-family: monospace;font-weight: bold;display: inline-block;line-height: 1.2em;}#sk-container-id-3 div.sk-label-container {text-align: center;}#sk-container-id-3 div.sk-container {/* jupyter's `normalize.less` sets `[hidden] { display: none; }` but bootstrap.min.css set `[hidden] { display: none !important; }` so we also need the `!important` here to be able to override the default hidden behavior on the sphinx rendered scikit-learn.org. See: https://github.com/scikit-learn/scikit-learn/issues/21755 */display: inline-block !important;position: relative;}#sk-container-id-3 div.sk-text-repr-fallback {display: none;}</style><div id=\"sk-container-id-3\" class=\"sk-top-container\"><div class=\"sk-text-repr-fallback\"><pre>Pipeline(steps=[(&#x27;columntransformer&#x27;,\n",
       "                 ColumnTransformer(transformers=[(&#x27;cat&#x27;,\n",
       "                                                  Pipeline(steps=[(&#x27;imputer&#x27;,\n",
       "                                                                   SimpleImputer(fill_value=&#x27;missing&#x27;,\n",
       "                                                                                 strategy=&#x27;most_frequent&#x27;)),\n",
       "                                                                  (&#x27;onehot&#x27;,\n",
       "                                                                   OneHotEncoder(handle_unknown=&#x27;ignore&#x27;))]),\n",
       "                                                  [&#x27;country&#x27;, &#x27;province&#x27;,\n",
       "                                                   &#x27;region_1&#x27;, &#x27;variety&#x27;,\n",
       "                                                   &#x27;winery&#x27;])])),\n",
       "                (&#x27;classifier&#x27;, DecisionTreeClassifier())])</pre><b>In a Jupyter environment, please rerun this cell to show the HTML representation or trust the notebook. <br />On GitHub, the HTML representation is unable to render, please try loading this page with nbviewer.org.</b></div><div class=\"sk-container\" hidden><div class=\"sk-item sk-dashed-wrapped\"><div class=\"sk-label-container\"><div class=\"sk-label sk-toggleable\"><input class=\"sk-toggleable__control sk-hidden--visually\" id=\"sk-estimator-id-13\" type=\"checkbox\" ><label for=\"sk-estimator-id-13\" class=\"sk-toggleable__label sk-toggleable__label-arrow\">Pipeline</label><div class=\"sk-toggleable__content\"><pre>Pipeline(steps=[(&#x27;columntransformer&#x27;,\n",
       "                 ColumnTransformer(transformers=[(&#x27;cat&#x27;,\n",
       "                                                  Pipeline(steps=[(&#x27;imputer&#x27;,\n",
       "                                                                   SimpleImputer(fill_value=&#x27;missing&#x27;,\n",
       "                                                                                 strategy=&#x27;most_frequent&#x27;)),\n",
       "                                                                  (&#x27;onehot&#x27;,\n",
       "                                                                   OneHotEncoder(handle_unknown=&#x27;ignore&#x27;))]),\n",
       "                                                  [&#x27;country&#x27;, &#x27;province&#x27;,\n",
       "                                                   &#x27;region_1&#x27;, &#x27;variety&#x27;,\n",
       "                                                   &#x27;winery&#x27;])])),\n",
       "                (&#x27;classifier&#x27;, DecisionTreeClassifier())])</pre></div></div></div><div class=\"sk-serial\"><div class=\"sk-item sk-dashed-wrapped\"><div class=\"sk-label-container\"><div class=\"sk-label sk-toggleable\"><input class=\"sk-toggleable__control sk-hidden--visually\" id=\"sk-estimator-id-14\" type=\"checkbox\" ><label for=\"sk-estimator-id-14\" class=\"sk-toggleable__label sk-toggleable__label-arrow\">columntransformer: ColumnTransformer</label><div class=\"sk-toggleable__content\"><pre>ColumnTransformer(transformers=[(&#x27;cat&#x27;,\n",
       "                                 Pipeline(steps=[(&#x27;imputer&#x27;,\n",
       "                                                  SimpleImputer(fill_value=&#x27;missing&#x27;,\n",
       "                                                                strategy=&#x27;most_frequent&#x27;)),\n",
       "                                                 (&#x27;onehot&#x27;,\n",
       "                                                  OneHotEncoder(handle_unknown=&#x27;ignore&#x27;))]),\n",
       "                                 [&#x27;country&#x27;, &#x27;province&#x27;, &#x27;region_1&#x27;, &#x27;variety&#x27;,\n",
       "                                  &#x27;winery&#x27;])])</pre></div></div></div><div class=\"sk-parallel\"><div class=\"sk-parallel-item\"><div class=\"sk-item\"><div class=\"sk-label-container\"><div class=\"sk-label sk-toggleable\"><input class=\"sk-toggleable__control sk-hidden--visually\" id=\"sk-estimator-id-15\" type=\"checkbox\" ><label for=\"sk-estimator-id-15\" class=\"sk-toggleable__label sk-toggleable__label-arrow\">cat</label><div class=\"sk-toggleable__content\"><pre>[&#x27;country&#x27;, &#x27;province&#x27;, &#x27;region_1&#x27;, &#x27;variety&#x27;, &#x27;winery&#x27;]</pre></div></div></div><div class=\"sk-serial\"><div class=\"sk-item\"><div class=\"sk-serial\"><div class=\"sk-item\"><div class=\"sk-estimator sk-toggleable\"><input class=\"sk-toggleable__control sk-hidden--visually\" id=\"sk-estimator-id-16\" type=\"checkbox\" ><label for=\"sk-estimator-id-16\" class=\"sk-toggleable__label sk-toggleable__label-arrow\">SimpleImputer</label><div class=\"sk-toggleable__content\"><pre>SimpleImputer(fill_value=&#x27;missing&#x27;, strategy=&#x27;most_frequent&#x27;)</pre></div></div></div><div class=\"sk-item\"><div class=\"sk-estimator sk-toggleable\"><input class=\"sk-toggleable__control sk-hidden--visually\" id=\"sk-estimator-id-17\" type=\"checkbox\" ><label for=\"sk-estimator-id-17\" class=\"sk-toggleable__label sk-toggleable__label-arrow\">OneHotEncoder</label><div class=\"sk-toggleable__content\"><pre>OneHotEncoder(handle_unknown=&#x27;ignore&#x27;)</pre></div></div></div></div></div></div></div></div></div></div><div class=\"sk-item\"><div class=\"sk-estimator sk-toggleable\"><input class=\"sk-toggleable__control sk-hidden--visually\" id=\"sk-estimator-id-18\" type=\"checkbox\" ><label for=\"sk-estimator-id-18\" class=\"sk-toggleable__label sk-toggleable__label-arrow\">DecisionTreeClassifier</label><div class=\"sk-toggleable__content\"><pre>DecisionTreeClassifier()</pre></div></div></div></div></div></div></div>"
      ],
      "text/plain": [
       "Pipeline(steps=[('columntransformer',\n",
       "                 ColumnTransformer(transformers=[('cat',\n",
       "                                                  Pipeline(steps=[('imputer',\n",
       "                                                                   SimpleImputer(fill_value='missing',\n",
       "                                                                                 strategy='most_frequent')),\n",
       "                                                                  ('onehot',\n",
       "                                                                   OneHotEncoder(handle_unknown='ignore'))]),\n",
       "                                                  ['country', 'province',\n",
       "                                                   'region_1', 'variety',\n",
       "                                                   'winery'])])),\n",
       "                ('classifier', DecisionTreeClassifier())])"
      ]
     },
     "execution_count": 74,
     "metadata": {},
     "output_type": "execute_result"
    }
   ],
   "source": [
    "# Create the main pipeline with SVC\n",
    "main_pipe = Pipeline([\n",
    "    ('columntransformer', col_transformer),\n",
    "    ('classifier', DecisionTreeClassifier())\n",
    "])\n",
    "\n",
    "main_pipe"
   ]
  },
  {
   "cell_type": "code",
   "execution_count": 75,
   "metadata": {},
   "outputs": [],
   "source": [
    "param_grid = {\n",
    "    'classifier__max_depth': randint(1, 100),\n",
    "    'classifier__min_samples_split': randint(2, 100),\n",
    "    'classifier__min_samples_leaf': randint(1, 100),\n",
    "    'classifier__criterion': ['gini', 'entropy'] \n",
    "}"
   ]
  },
  {
   "cell_type": "code",
   "execution_count": 76,
   "metadata": {},
   "outputs": [
    {
     "name": "stdout",
     "output_type": "stream",
     "text": [
      "Fitting 3 folds for each of 20 candidates, totalling 60 fits\n",
      "{'classifier__criterion': 'gini', 'classifier__max_depth': 85, 'classifier__min_samples_leaf': 12, 'classifier__min_samples_split': 8}\n"
     ]
    }
   ],
   "source": [
    "major_random_search = RandomizedSearchCV(main_pipe, param_grid, n_iter=20, cv=3, verbose=1, n_jobs=-1, random_state=289, return_train_score=True, error_score='raise')\n",
    "major_random_search.fit(X_train, y_train)\n",
    "print(major_random_search.best_params_)"
   ]
  },
  {
   "cell_type": "code",
   "execution_count": 77,
   "metadata": {},
   "outputs": [],
   "source": [
    "\n",
    "dt_score = major_random_search.score(X_test, y_test)\n",
    "# print(\"Test set score:\", test_score)\n",
    "\n",
    "\n",
    "y_pred = major_random_search.predict(X_test)\n",
    "dt_report = classification_report(y_test, y_pred)\n",
    "# print(report)\n"
   ]
  },
  {
   "cell_type": "markdown",
   "metadata": {},
   "source": [
    "#### Random Forest"
   ]
  },
  {
   "cell_type": "code",
   "execution_count": 78,
   "metadata": {},
   "outputs": [
    {
     "name": "stdout",
     "output_type": "stream",
     "text": [
      "Fitting 3 folds for each of 20 candidates, totalling 60 fits\n",
      "Best parameters set:\n",
      "{'classifier__criterion': 'gini', 'classifier__max_depth': 85, 'classifier__min_samples_leaf': 12, 'classifier__min_samples_split': 8, 'classifier__n_estimators': 34}\n"
     ]
    }
   ],
   "source": [
    "# Create the main pipeline with random forest\n",
    "r_forest_pipe = Pipeline([\n",
    "    ('columntransformer', col_transformer),\n",
    "    ('classifier', RandomForestClassifier())\n",
    "])\n",
    "\n",
    "param_grid = {\n",
    "    'classifier__n_estimators': randint(1, 100),\n",
    "    'classifier__max_depth': randint(1, 100),\n",
    "    'classifier__min_samples_split': randint(2, 100),\n",
    "    'classifier__min_samples_leaf': randint(1, 100),\n",
    "    'classifier__criterion': ['gini', 'entropy'] \n",
    "}\n",
    "\n",
    "r_forest_random_search = RandomizedSearchCV(r_forest_pipe, param_grid, n_iter=20, cv=3, verbose=1, n_jobs=-1, random_state=289, return_train_score=True)\n",
    "\n",
    "r_forest_random_search.fit(X_train, y_train)\n",
    "\n",
    "print(\"Best parameters set:\")\n",
    "print(r_forest_random_search.best_params_)"
   ]
  },
  {
   "cell_type": "code",
   "execution_count": 79,
   "metadata": {},
   "outputs": [],
   "source": [
    "rf_score = r_forest_random_search.score(X_test, y_test)\n",
    "# print(\"Test set score:\", test_score)\n",
    "y_pred = r_forest_random_search.predict(X_test)\n",
    "rf_report = classification_report(y_test, y_pred)\n",
    "# print(report)"
   ]
  },
  {
   "cell_type": "code",
   "execution_count": 80,
   "metadata": {},
   "outputs": [
    {
     "name": "stdout",
     "output_type": "stream",
     "text": [
      "region_1: 0.049019683272424154\n",
      "variety: 0.027961787523241622\n",
      "province: 0.014648970955953038\n",
      "country: 0.010073732127973294\n",
      "winery: 0.008211835609412025\n"
     ]
    }
   ],
   "source": [
    "perm_importance = permutation_importance(r_forest_random_search, X_test, y_test, n_repeats=30, random_state=42, n_jobs=-1)\n",
    "importance_scores = perm_importance.importances_mean\n",
    "\n",
    "# Combine feature names and importance scores\n",
    "feature_importances = list(zip(feature_names, importance_scores))\n",
    "\n",
    "# Sort the feature importances in descending order\n",
    "sorted_feature_importances = sorted(feature_importances, key=lambda x: x[1], reverse=True)\n",
    "\n",
    "# Print the sorted feature importances\n",
    "for feature, importance in sorted_feature_importances:\n",
    "    print(f\"{feature}: {importance}\")"
   ]
  },
  {
   "cell_type": "markdown",
   "metadata": {},
   "source": [
    "#### Logistic"
   ]
  },
  {
   "cell_type": "code",
   "execution_count": 81,
   "metadata": {},
   "outputs": [
    {
     "name": "stdout",
     "output_type": "stream",
     "text": [
      "Fitting 3 folds for each of 10 candidates, totalling 30 fits\n",
      "Best parameters set:\n",
      "{'classifier__C': 3.4393145155916303, 'classifier__max_iter': 332, 'classifier__solver': 'newton-cg'}\n"
     ]
    }
   ],
   "source": [
    "# create a pipeline with logistic regression\n",
    "logistic_pipe = Pipeline([\n",
    "    ('columntransformer', col_transformer),\n",
    "    ('classifier', LogisticRegression())\n",
    "])\n",
    "\n",
    "param_grid = {\n",
    "    'classifier__C': loguniform(0.01, 10),\n",
    "    'classifier__solver': ['newton-cg', 'lbfgs', 'liblinear', 'sag', 'saga'],\n",
    "    'classifier__max_iter': randint(100, 1000)\n",
    "}\n",
    "\n",
    "logistic_random_search = RandomizedSearchCV(logistic_pipe, param_grid, n_iter=10, cv=3, verbose=1, n_jobs=-1, random_state=289, return_train_score=True)\n",
    "\n",
    "logistic_random_search.fit(X_train, y_train)\n",
    "print(\"Best parameters set:\")\n",
    "print(logistic_random_search.best_params_)"
   ]
  },
  {
   "cell_type": "code",
   "execution_count": 82,
   "metadata": {},
   "outputs": [],
   "source": [
    "log_score = logistic_random_search.score(X_test, y_test)\n",
    "# print(\"Test set score:\", test_score)\n",
    "y_pred = logistic_random_search.predict(X_test)\n",
    "log_report = classification_report(y_test, y_pred)\n",
    "# print(report)"
   ]
  },
  {
   "cell_type": "markdown",
   "metadata": {},
   "source": [
    "### Models for Descriptions"
   ]
  },
  {
   "cell_type": "markdown",
   "metadata": {},
   "source": [
    "#### Dummy Classifier"
   ]
  },
  {
   "cell_type": "code",
   "execution_count": 83,
   "metadata": {},
   "outputs": [],
   "source": [
    "dummy_pipeline = Pipeline([\n",
    "    ('vect', TfidfVectorizer()),\n",
    "    ('clf', DummyClassifier(strategy='stratified'))\n",
    "])\n",
    "\n",
    "\n",
    "dummy_pipeline.fit(X_train_d, y_train)\n",
    "\n",
    "dummy_d_score = dummy_pipeline.score(X_test_d, y_test)\n",
    "# print()\n",
    "dummy_d_report = classification_report(y_test, dummy_pipeline.predict(X_test_d))\n",
    "# print()"
   ]
  },
  {
   "cell_type": "markdown",
   "metadata": {},
   "source": [
    "#### Naive Bayes"
   ]
  },
  {
   "cell_type": "code",
   "execution_count": 84,
   "metadata": {},
   "outputs": [
    {
     "name": "stdout",
     "output_type": "stream",
     "text": [
      "Fitting 5 folds for each of 10 candidates, totalling 50 fits\n",
      "Best parameters set:\n",
      "{'clf__alpha': 1.7, 'vect__max_df': 1.0, 'vect__max_features': 28942, 'vect__ngram_range': (1, 2)}\n"
     ]
    }
   ],
   "source": [
    "nb_pipeline = Pipeline([\n",
    "    ('vect', TfidfVectorizer()),\n",
    "    ('clf', MultinomialNB())\n",
    "])\n",
    "\n",
    "# Define the parameter space for the random search\n",
    "nb_parameters = {\n",
    "    'vect__ngram_range': ((1, 1), (1, 2)),  # unigrams or bigrams\n",
    "    'vect__max_features': randint(10000,30000),  # number of features to consider\n",
    "    'vect__max_df': (0.5, 0.75, 1.0),\n",
    "    'clf__alpha': np.linspace(0.1, 2, 20),  # smoothing parameter\n",
    "}\n",
    "\n",
    "# Set up the random search with cross-validation\n",
    "nb_random_search = RandomizedSearchCV(nb_pipeline, nb_parameters, n_iter=10, cv=5, random_state=42,verbose=1,return_train_score=True, n_jobs=-1)\n",
    "\n",
    "# Execute the random search\n",
    "nb_random_search.fit(X_train_d, y_train)\n",
    "\n",
    "# Output the best parameters\n",
    "print(\"Best parameters set:\")\n",
    "print(nb_random_search.best_params_)\n",
    "\n",
    "\n"
   ]
  },
  {
   "cell_type": "code",
   "execution_count": 85,
   "metadata": {},
   "outputs": [],
   "source": [
    "\n",
    "# Output the test score\n",
    "nb_d_score = nb_random_search.score(X_test_d, y_test)\n",
    "# print(\"Test set score:\", nb_d_accuracy)\n",
    "nb_d_report = classification_report(y_test, nb_random_search.predict(X_test_d))\n",
    "# print(classification_report(y_test, nb_random_search.predict(X_test_d)))"
   ]
  },
  {
   "cell_type": "markdown",
   "metadata": {},
   "source": [
    "#### Logistic Regression"
   ]
  },
  {
   "cell_type": "code",
   "execution_count": 86,
   "metadata": {},
   "outputs": [
    {
     "name": "stdout",
     "output_type": "stream",
     "text": [
      "Fitting 5 folds for each of 10 candidates, totalling 50 fits\n",
      "Best parameters: {'logreg__C': 0.19185373703841915, 'tfidf__max_df': 0.7357087350422706, 'tfidf__min_df': 5, 'tfidf__ngram_range': (1, 2)}\n"
     ]
    }
   ],
   "source": [
    "from sklearn.feature_extraction.text import TfidfVectorizer\n",
    "from sklearn.linear_model import LogisticRegression\n",
    "from sklearn.pipeline import Pipeline\n",
    "from sklearn.model_selection import RandomizedSearchCV\n",
    "from scipy.stats import loguniform\n",
    "from sklearn.metrics import accuracy_score, classification_report\n",
    "\n",
    "# Set up the pipeline\n",
    "logistic_d_pipeline = Pipeline([\n",
    "    ('tfidf', TfidfVectorizer(stop_words='english')),\n",
    "    ('logreg', LogisticRegression(multi_class='multinomial', solver='lbfgs', max_iter=1000, random_state=42))\n",
    "])\n",
    "\n",
    "# Define the parameter distribution\n",
    "param_distributions = {\n",
    "    'tfidf__ngram_range': [(1, 1), (1, 2), (1, 3)],\n",
    "    'tfidf__max_df': loguniform(0.7, 1.0),\n",
    "    'tfidf__min_df': [1, 2, 5],\n",
    "    'logreg__C': loguniform(1e-5, 100)\n",
    "}\n",
    "\n",
    "# Set up RandomizedSearchCV\n",
    "log_random_search = RandomizedSearchCV(logistic_d_pipeline, param_distributions=param_distributions, n_iter=10, cv=5, verbose=1, return_train_score=True, n_jobs=-1, random_state=42)\n",
    "\n",
    "# Fit the model\n",
    "log_random_search.fit(X_train_d, y_train)\n",
    "\n",
    "# Best parameters found\n",
    "print(\"Best parameters:\", log_random_search.best_params_)\n",
    "\n"
   ]
  },
  {
   "cell_type": "code",
   "execution_count": 87,
   "metadata": {},
   "outputs": [],
   "source": [
    "\n",
    "# Optionally, predict and evaluate the model\n",
    "y_pred = log_random_search.predict(X_test_d)\n",
    "log_d_score = log_random_search.score(X_test_d, y_test)\n",
    "# print(f'Accuracy: {log_d_score:.4f}')\n",
    "log_d_report = classification_report(y_test, y_pred)\n",
    "# print(classification_report(y_test, y_pred))"
   ]
  },
  {
   "cell_type": "markdown",
   "metadata": {},
   "source": [
    "#### Random Forest"
   ]
  },
  {
   "cell_type": "code",
   "execution_count": 88,
   "metadata": {},
   "outputs": [
    {
     "name": "stdout",
     "output_type": "stream",
     "text": [
      "Fitting 3 folds for each of 20 candidates, totalling 60 fits\n"
     ]
    },
    {
     "name": "stderr",
     "output_type": "stream",
     "text": [
      "/Users/zhanmingxiao/miniconda3/envs/509/lib/python3.10/site-packages/joblib/externals/loky/process_executor.py:752: UserWarning: A worker stopped while some jobs were given to the executor. This can be caused by a too short worker timeout or by a memory leak.\n",
      "  warnings.warn(\n"
     ]
    },
    {
     "name": "stdout",
     "output_type": "stream",
     "text": [
      "Best parameters: {'clf__max_depth': 18, 'clf__min_samples_leaf': 3, 'clf__min_samples_split': 8, 'clf__n_estimators': 343, 'cvec__max_df': 0.5, 'cvec__max_features': 21394, 'cvec__ngram_range': (1, 2)}\n"
     ]
    }
   ],
   "source": [
    "\n",
    "from sklearn.ensemble import RandomForestClassifier\n",
    "from sklearn.metrics import accuracy_score, confusion_matrix\n",
    "\n",
    "\n",
    "# Define the pipeline\n",
    "pipeline = Pipeline([\n",
    "    ('cvec', CountVectorizer(stop_words='english')),\n",
    "    ('clf', RandomForestClassifier(random_state=42))\n",
    "])\n",
    "\n",
    "# Define the parameter distribution for RandomizedSearchCV\n",
    "param_distributions = {\n",
    "    # 'tfidf__ngram_range': [(1, 1), (1, 2), (1, 3)],\n",
    "    # 'tfidf__max_df': [0.5, 0.75, 1.0],\n",
    "    # 'tfidf__min_df': [1, 2, 5],\n",
    "    'cvec__ngram_range': [(1, 2), (1, 3)],  # unigrams or bigrams or trigrams\n",
    "    'cvec__max_features': randint(10000, 30000),\n",
    "    'cvec__max_df': (0.5, 0.75, 1.0),\n",
    "    'clf__n_estimators': randint(100, 500),\n",
    "    'clf__max_depth': randint(3, 20),\n",
    "    'clf__min_samples_split': randint(2, 11),\n",
    "    'clf__min_samples_leaf': randint(1, 11)\n",
    "}\n",
    "\n",
    "# Set up R\n",
    "random_search = RandomizedSearchCV(pipeline, param_distributions=param_distributions, \n",
    "                                   n_iter=20, cv=3, verbose=1, n_jobs=-1, random_state=42, return_train_score=True)\n",
    "\n",
    "# Fit the model\n",
    "random_search.fit(X_train_d, y_train)\n",
    "\n",
    "# Best parameters found\n",
    "print(\"Best parameters:\", random_search.best_params_)\n",
    "\n",
    "\n"
   ]
  },
  {
   "cell_type": "code",
   "execution_count": 89,
   "metadata": {},
   "outputs": [],
   "source": [
    "# Optionally, predict and evaluate the model\n",
    "y_pred = random_search.predict(X_test_d)\n",
    "# Evaluate the predictions, e.g., using accuracy_score, confusion_matrix\n",
    "# Calculate accuracy\n",
    "rf_d_score = random_search.score(X_test_d, y_test)\n",
    "rf_d_report = classification_report(y_test, y_pred)\n",
    "# print(\"Accuracy:\", accuracy)\n",
    "\n"
   ]
  },
  {
   "cell_type": "markdown",
   "metadata": {},
   "source": [
    "## Reflection on selected performance metrics"
   ]
  },
  {
   "cell_type": "code",
   "execution_count": 90,
   "metadata": {},
   "outputs": [
    {
     "name": "stdout",
     "output_type": "stream",
     "text": [
      "Dummy Classifier Score: 0.49890363531448356\n",
      "Decision Tree Score: 0.6887863050586651\n",
      "Random Forest Score: 0.6667436045393345\n",
      "Logistic Regression Score: 0.7520677053279476\n",
      "Dummy Classifier Report:\n",
      "              precision    recall  f1-score   support\n",
      "\n",
      "           0       0.53      0.53      0.53     13697\n",
      "           1       0.48      0.48      0.48     12298\n",
      "\n",
      "    accuracy                           0.51     25995\n",
      "   macro avg       0.50      0.50      0.50     25995\n",
      "weighted avg       0.51      0.51      0.51     25995\n",
      "\n",
      "Decision Tree Report:\n",
      "              precision    recall  f1-score   support\n",
      "\n",
      "           0       0.68      0.78      0.72     13697\n",
      "           1       0.70      0.59      0.64     12298\n",
      "\n",
      "    accuracy                           0.69     25995\n",
      "   macro avg       0.69      0.68      0.68     25995\n",
      "weighted avg       0.69      0.69      0.69     25995\n",
      "\n",
      "Random Forest Report:\n",
      "              precision    recall  f1-score   support\n",
      "\n",
      "           0       0.65      0.79      0.71     13697\n",
      "           1       0.69      0.53      0.60     12298\n",
      "\n",
      "    accuracy                           0.67     25995\n",
      "   macro avg       0.67      0.66      0.66     25995\n",
      "weighted avg       0.67      0.67      0.66     25995\n",
      "\n",
      "Logistic Regression Report:\n",
      "              precision    recall  f1-score   support\n",
      "\n",
      "           0       0.76      0.77      0.77     13697\n",
      "           1       0.74      0.73      0.74     12298\n",
      "\n",
      "    accuracy                           0.75     25995\n",
      "   macro avg       0.75      0.75      0.75     25995\n",
      "weighted avg       0.75      0.75      0.75     25995\n",
      "\n"
     ]
    }
   ],
   "source": [
    "import pandas as pd\n",
    "\n",
    "# Create dictionaries to store the scores and reports\n",
    "scores = {\n",
    "    'Dummy Classifier': dummy_score,\n",
    "    'Decision Tree': dt_score,\n",
    "    'Random Forest': rf_score,\n",
    "    'Logistic Regression': log_score\n",
    "}\n",
    "\n",
    "reports = {\n",
    "    'Dummy Classifier': dummy_report,\n",
    "    'Decision Tree': dt_report,\n",
    "    'Random Forest': rf_report,\n",
    "    'Logistic Regression': log_report\n",
    "}\n",
    "\n",
    "# Print the scores and reports\n",
    "for model, score in scores.items():\n",
    "    print(f\"{model} Score: {score}\")\n",
    "\n",
    "for model, report in reports.items():\n",
    "    print(f\"{model} Report:\\n{report}\")\n"
   ]
  },
  {
   "cell_type": "code",
   "execution_count": 91,
   "metadata": {},
   "outputs": [
    {
     "name": "stdout",
     "output_type": "stream",
     "text": [
      "Scores:\n",
      "Dummy Classifier: 0.5084439315252933\n",
      "Naive Bayes: 0.8050009617234083\n",
      "Logistic Regression: 0.82488940180804\n",
      "Random Forest: 0.7457587997691864\n",
      "\n",
      "Reports:\n",
      "Dummy Classifier:\n",
      "              precision    recall  f1-score   support\n",
      "\n",
      "           0       0.52      0.52      0.52     13697\n",
      "           1       0.47      0.47      0.47     12298\n",
      "\n",
      "    accuracy                           0.50     25995\n",
      "   macro avg       0.50      0.50      0.50     25995\n",
      "weighted avg       0.50      0.50      0.50     25995\n",
      "\n",
      "Naive Bayes:\n",
      "              precision    recall  f1-score   support\n",
      "\n",
      "           0       0.81      0.82      0.82     13697\n",
      "           1       0.80      0.79      0.79     12298\n",
      "\n",
      "    accuracy                           0.81     25995\n",
      "   macro avg       0.80      0.80      0.80     25995\n",
      "weighted avg       0.80      0.81      0.80     25995\n",
      "\n",
      "Logistic Regression:\n",
      "              precision    recall  f1-score   support\n",
      "\n",
      "           0       0.83      0.84      0.84     13697\n",
      "           1       0.82      0.81      0.81     12298\n",
      "\n",
      "    accuracy                           0.82     25995\n",
      "   macro avg       0.82      0.82      0.82     25995\n",
      "weighted avg       0.82      0.82      0.82     25995\n",
      "\n",
      "Random Forest:\n",
      "              precision    recall  f1-score   support\n",
      "\n",
      "           0       0.70      0.92      0.79     13697\n",
      "           1       0.86      0.55      0.67     12298\n",
      "\n",
      "    accuracy                           0.75     25995\n",
      "   macro avg       0.78      0.74      0.73     25995\n",
      "weighted avg       0.77      0.75      0.74     25995\n",
      "\n"
     ]
    }
   ],
   "source": [
    "\n",
    "# Scores and reports from the Models for Descriptions part\n",
    "scores = {\n",
    "    'Dummy Classifier': dummy_d_score,\n",
    "    'Naive Bayes': nb_d_score,\n",
    "    'Logistic Regression': log_d_score,\n",
    "    'Random Forest': rf_d_score\n",
    "}\n",
    "\n",
    "reports = {\n",
    "    'Dummy Classifier': dummy_d_report,\n",
    "    'Naive Bayes': nb_d_report,\n",
    "    'Logistic Regression': log_d_report,\n",
    "    'Random Forest': rf_d_report\n",
    "}\n",
    "\n",
    "# Print the scores\n",
    "print(\"Scores:\")\n",
    "for model, score in scores.items():\n",
    "    print(f\"{model}: {score}\")\n",
    "\n",
    "# Print the reports\n",
    "print(\"\\nReports:\")\n",
    "for model, report in reports.items():\n",
    "    print(f\"{model}:\\n{report}\")\n"
   ]
  },
  {
   "cell_type": "markdown",
   "metadata": {},
   "source": [
    "### Major Features Classification Models\n",
    "- Accuracy: Logistic Regression achieves the highest accuracy of 0.7521 among all models tested, indicating it correctly predicts wine quality more often than the other models.\n",
    "\n",
    "- Balance between Precision and Recall: The Logistic Regression model shows a strong balance between precision and recall for both classes (0 and 1), with precision values of 0.76 and 0.74, and recall values of 0.77 and 0.73, respectively. This balance is crucial in scenarios where both false positives and false negatives are of concern.\n",
    "\n",
    "- F1-Score: The f1-scores for Logistic Regression are the highest among the models for both classes, indicating a robust balance between precision and recall. This suggests that Logistic Regression not only makes accurate predictions but does so in a balanced manner across both classes.\n",
    "\n",
    "- Comparative Performance: When compared to the other models, Logistic Regression consistently outperforms the Decision Tree, Random Forest, and certainly the Dummy Classifier across all key metrics (accuracy, precision, recall, f1-score). The Decision Tree and Random Forest models show decent performance but are not as balanced or as high performing as Logistic Regression.\n",
    "\n",
    "Given these points, the Logistic Regression model is the best choice for predicting wine quality based on the dataset provided. It offers the highest accuracy and the best balance between identifying positive cases and minimizing false positives, making it the most reliable model among those tested for this specific task."
   ]
  },
  {
   "cell_type": "markdown",
   "metadata": {},
   "source": [
    "### Description Classification Models\n",
    "\n",
    "- Highest Accuracy: Logistic Regression has the highest accuracy score, indicating it makes the most correct predictions for wine quality out of all models tested.\n",
    "\n",
    "- Balanced Precision and Recall: It offers a balanced performance between precision and recall for both classes, with precision at 0.83 for class 0 and 0.82 for class 1, alongside recall at 0.84 for class 0 and 0.81 for class 1. This balance is crucial for making reliable predictions in both classes without bias toward predicting one class more accurately than the other.\n",
    "\n",
    "- Strong F1-Score: The F1-scores, which are the harmonic mean of precision and recall, are also highest for the Logistic Regression model, indicating a strong balance between the precision and recall across both classes. This suggests that Logistic Regression not only accurately identifies positive cases but does so with a minimal number of false positives and negatives.\n",
    "\n",
    "- Comparatively, while Naive Bayes shows commendable performance with an accuracy of 0.8050, it slightly lags behind Logistic Regression in both accuracy and the balance of precision and recall across classes. Random Forest has a lower accuracy of 0.7458 and demonstrates a significant imbalance between precision and recall, especially for class 1, indicating a tendency to misclassify a higher proportion of actual positives compared to Logistic Regression and Naive Bayes.\n",
    "\n",
    "- The Dummy Classifier is intended as a baseline with an accuracy close to random guessing, as expected, and is significantly outperformed by the other models.\n",
    "\n",
    "Given these insights, Logistic Regression is the most suitable model for predicting wine quality in this context due to its superior accuracy, balanced precision and recall, and strong F1-scores, making it the most reliable and balanced model among those evaluated."
   ]
  },
  {
   "cell_type": "markdown",
   "metadata": {},
   "source": [
    "## Results Interpretation"
   ]
  },
  {
   "cell_type": "markdown",
   "metadata": {},
   "source": [
    "### Feature Importance"
   ]
  },
  {
   "cell_type": "code",
   "execution_count": 92,
   "metadata": {},
   "outputs": [
    {
     "name": "stdout",
     "output_type": "stream",
     "text": [
      "winery: 0.11987305251009804\n",
      "province: 0.08408924793229462\n",
      "region_1: 0.06850932871706096\n",
      "country: 0.06850676412130532\n",
      "variety: 0.023585304866320416\n"
     ]
    }
   ],
   "source": [
    "perm_importance = permutation_importance(logistic_random_search, X_test, y_test, n_repeats=30, random_state=42, n_jobs=-1)\n",
    "importance_scores = perm_importance.importances_mean\n",
    "\n",
    "# Combine feature names and importance scores\n",
    "feature_importances = list(zip(feature_names, importance_scores))\n",
    "\n",
    "# Sort the feature importances in descending order\n",
    "sorted_feature_importances = sorted(feature_importances, key=lambda x: x[1], reverse=True)\n",
    "\n",
    "# Print the sorted feature importances\n",
    "for feature, importance in sorted_feature_importances:\n",
    "    print(f\"{feature}: {importance}\")"
   ]
  },
  {
   "cell_type": "markdown",
   "metadata": {},
   "source": [
    "- winery: The most important feature, with a score of approximately 0.1199, indicating that the winery where the wine is produced has the highest impact on the wine quality prediction.\n",
    "- province: The second most important feature, with a score of about 0.0841, suggesting the province of the winery also significantly affects the wine quality prediction.\n",
    "- region_1 and country: These features have nearly identical importance scores (around 0.0685), indicating they both meaningfully contribute to predicting wine quality, with the specific region within a country and the country itself being almost equally important.\n",
    "- variety: The least important of the listed features but still relevant, with a score of approximately 0.0236, showing that the type of grape used in the wine has a smaller yet non-negligible effect on the quality prediction."
   ]
  },
  {
   "cell_type": "markdown",
   "metadata": {},
   "source": [
    "### Description Keywords"
   ]
  },
  {
   "cell_type": "code",
   "execution_count": 93,
   "metadata": {},
   "outputs": [
    {
     "data": {
      "text/plain": [
       "16988         complex\n",
       "43563            long\n",
       "81709           years\n",
       "20244       delicious\n",
       "500              2020\n",
       "23867         elegant\n",
       "60042            rich\n",
       "38004      impressive\n",
       "77748        vineyard\n",
       "43927          lovely\n",
       "7035        beautiful\n",
       "521              2022\n",
       "7079      beautifully\n",
       "17306    concentrated\n",
       "536              2025\n",
       "34819           great\n",
       "516              2021\n",
       "24965       excellent\n",
       "77372         velvety\n",
       "56737        powerful\n",
       "57856            pure\n",
       "22021      drink 2020\n",
       "26481            fine\n",
       "464              2018\n",
       "482              2019\n",
       "51812         opulent\n",
       "527              2023\n",
       "44149            lush\n",
       "19944            deep\n",
       "6326         balanced\n",
       "46399      minerality\n",
       "29765         focused\n",
       "12815          cellar\n",
       "40446         layered\n",
       "34237        gorgeous\n",
       "60481        richness\n",
       "22023      drink 2022\n",
       "23812        elegance\n",
       "69592      structured\n",
       "59219         refined\n",
       "22022      drink 2021\n",
       "20828           depth\n",
       "38476         intense\n",
       "2634              age\n",
       "56327        polished\n",
       "533              2024\n",
       "7612             best\n",
       "46243         mineral\n",
       "80972       winemaker\n",
       "6152          balance\n",
       "Name: words, dtype: object"
      ]
     },
     "execution_count": 93,
     "metadata": {},
     "output_type": "execute_result"
    }
   ],
   "source": [
    "best_estimator =  log_random_search.best_estimator_\n",
    "\n",
    "coef_df = pd.DataFrame({\n",
    "    'words': best_estimator[ \"tfidf\"].get_feature_names_out(),\n",
    "    'coefficient': best_estimator[\"logreg\"].coef_[0]\n",
    "})\n",
    "\n",
    "positive_words = coef_df.sort_values('coefficient', ascending=False).head(50)['words']\n",
    "positive_words"
   ]
  },
  {
   "cell_type": "markdown",
   "metadata": {},
   "source": [
    "### Business Insights From the Models"
   ]
  },
  {
   "cell_type": "markdown",
   "metadata": {},
   "source": [
    "### **Major Features**\n",
    "\n",
    "Utilizing the output from the permutation importance analysis in the context of designing premium wines involves focusing on the features that have the most significant impact on wine quality as identified by the logistic regression model.\n",
    "\n",
    "### 1. Leverage the Winery's Reputation\n",
    "- **Focus on Branding**: With \"winery\" having the highest importance score, the reputation and branding of the winery are crucial. Develop a strong brand story that emphasizes quality, craftsmanship, and the unique aspects of your winery that contribute to producing premium wines.\n",
    "- **Quality Consistency**: Ensure that the winery maintains high standards in wine production to strengthen and uphold its reputation as a marker of premium quality.\n",
    "\n",
    "### 2. Highlight the Geography\n",
    "- **Province and Region**: The importance of \"province\" and \"region_1\" suggests that the geographic origin of the wine significantly affects its perceived quality. Highlight the unique characteristics of the province and region in your marketing, focusing on terroir, climate, and how these factors contribute to the distinctive qualities of your wines.\n",
    "- **Country of Origin**: With \"country\" also being a significant factor, leverage the country's image in the wine market. For example, certain countries are renowned for their wine quality and specific varieties. Use this to your advantage in storytelling and branding.\n",
    "\n",
    "### **Description Keywords**\n",
    "\n",
    "The output description mining model identifies keywords highly associated with the score of wines, provides valuable insights into the characteristics that are often mentioned in descriptions of higher-quality (premium) wines. To apply these keywords in designing premium wines, we may use the following strategies:\n",
    "\n",
    "### 1. Focus on Quality and Complexity\n",
    "- **Complexity and Depth**: Terms like \"complex,\" \"layered,\" \"depth,\" and \"complexity\" suggest that premium wines are appreciated for their multifaceted flavors and aromas. Aim to develop wines that offer a rich array of sensory experiences.\n",
    "- **Balance and Structure**: Keywords such as \"balanced\" and \"structured\" indicate the importance of a harmonious blend of acidity, tannins, sweetness, and alcohol. Ensure your winemaking process focuses on achieving a well-rounded wine.\n",
    "\n",
    "### 2. Aim for Desirable Taste Profiles and Aromas\n",
    "- **Richness and Opulence**: Descriptors like \"rich,\" \"opulent,\" \"lush,\" and \"velvety\" point to a preference for wines with a full-bodied feel and luxurious taste. Consider grape varieties and fermentation processes that enhance these attributes.\n",
    "- **Elegance and Refinement**: Words such as \"elegant,\" \"refined,\" \"polished,\" and \"lovely\" suggest a market appreciation for wines that are sophisticated and gracefully composed. Strive for subtlety and finesse in flavor profiles.\n",
    "\n",
    "### 3. Highlight Specific Vintage and Aging Potential\n",
    "- **Vintage and Drinkability**: The presence of specific years (e.g., 2020, 2021, 2022) and phrases like \"drink 2020\" imply the importance of vintage quality and optimal drinking windows. Highlight the best vintages and advise on aging potential to guide consumers.\n",
    "- **Aging and Cellaring**: \"Years,\" \"cellar,\" \"aged,\" and future years (e.g., 2025) suggest consumers value wines that age well. Focus on producing wines that will develop positively over time, offering guidance on cellaring practices.\n",
    "\n",
    "### 4. Emphasize Terroir and Winemaking Excellence\n",
    "- **Vineyard and Terroir**: \"Vineyard,\" \"minerality,\" and \"terroir-focused\" indicate the value placed on the origin and unique characteristics imparted by specific locations. Promote the unique aspects of your vineyard's terroir in your wine's branding.\n",
    "- **Winemaking Techniques**: Use of \"barrel sample\" and specific tasting notes (e.g., \"minerality,\" \"elegance\") can reflect the winemaking process's influence on the wine's character. Adopt and highlight winemaking techniques that contribute to the desired profiles.\n",
    "\n",
    "### 5. Marketing and Labeling\n",
    "- **Descriptive Marketing**: Incorporate these keywords into your wine labels, marketing materials, and tasting notes. Describing your wine using terms found to be associated with higher scores can attract consumers looking for premium wine experiences.\n",
    "- **Storytelling**: Build narratives around your wines that include these descriptors, focusing on the craftsmanship, vineyard heritage, and the sensory journey the wine offers.\n",
    "\n"
   ]
  }
 ],
 "metadata": {
  "kernelspec": {
   "display_name": "509",
   "language": "python",
   "name": "python3"
  },
  "language_info": {
   "codemirror_mode": {
    "name": "ipython",
    "version": 3
   },
   "file_extension": ".py",
   "mimetype": "text/x-python",
   "name": "python",
   "nbconvert_exporter": "python",
   "pygments_lexer": "ipython3",
   "version": "3.10.0"
  }
 },
 "nbformat": 4,
 "nbformat_minor": 2
}
