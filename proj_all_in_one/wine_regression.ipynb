{
 "cells": [
  {
   "cell_type": "code",
   "execution_count": 5,
   "id": "b40a6773",
   "metadata": {},
   "outputs": [],
   "source": [
    "import pandas as pd\n",
    "import numpy as np\n",
    "from sklearn.model_selection import train_test_split\n",
    "from sklearn.pipeline import make_pipeline, Pipeline\n",
    "from sklearn.impute import SimpleImputer\n",
    "from sklearn.preprocessing import StandardScaler\n",
    "from sklearn.preprocessing import OneHotEncoder\n",
    "from sklearn.compose import make_column_transformer\n",
    "from sklearn.dummy import DummyClassifier\n",
    "from sklearn.svm import SVC\n",
    "from sklearn.model_selection import RandomizedSearchCV\n",
    "import ast\n",
    "from scipy.stats import uniform, randint\n",
    "from sklearn.feature_extraction.text import CountVectorizer\n",
    "from sklearn.feature_extraction.text import TfidfVectorizer\n",
    "from sklearn.naive_bayes import MultinomialNB\n",
    "from sklearn.pipeline import make_pipeline\n",
    "from sklearn.metrics import accuracy_score"
   ]
  },
  {
   "cell_type": "code",
   "execution_count": 6,
   "id": "2ee7aa2d",
   "metadata": {},
   "outputs": [],
   "source": [
    "wine_pd = pd.read_csv('winemag-data-130k-v2.csv')"
   ]
  },
  {
   "cell_type": "code",
   "execution_count": 7,
   "id": "76d3e968",
   "metadata": {},
   "outputs": [
    {
     "data": {
      "text/html": [
       "<div>\n",
       "<style scoped>\n",
       "    .dataframe tbody tr th:only-of-type {\n",
       "        vertical-align: middle;\n",
       "    }\n",
       "\n",
       "    .dataframe tbody tr th {\n",
       "        vertical-align: top;\n",
       "    }\n",
       "\n",
       "    .dataframe thead th {\n",
       "        text-align: right;\n",
       "    }\n",
       "</style>\n",
       "<table border=\"1\" class=\"dataframe\">\n",
       "  <thead>\n",
       "    <tr style=\"text-align: right;\">\n",
       "      <th></th>\n",
       "      <th>Unnamed: 0</th>\n",
       "      <th>country</th>\n",
       "      <th>description</th>\n",
       "      <th>designation</th>\n",
       "      <th>points</th>\n",
       "      <th>price</th>\n",
       "      <th>province</th>\n",
       "      <th>region_1</th>\n",
       "      <th>region_2</th>\n",
       "      <th>taster_name</th>\n",
       "      <th>taster_twitter_handle</th>\n",
       "      <th>title</th>\n",
       "      <th>variety</th>\n",
       "      <th>winery</th>\n",
       "    </tr>\n",
       "  </thead>\n",
       "  <tbody>\n",
       "    <tr>\n",
       "      <th>0</th>\n",
       "      <td>0</td>\n",
       "      <td>Italy</td>\n",
       "      <td>Aromas include tropical fruit, broom, brimston...</td>\n",
       "      <td>Vulkà Bianco</td>\n",
       "      <td>87</td>\n",
       "      <td>NaN</td>\n",
       "      <td>Sicily &amp; Sardinia</td>\n",
       "      <td>Etna</td>\n",
       "      <td>NaN</td>\n",
       "      <td>Kerin O’Keefe</td>\n",
       "      <td>@kerinokeefe</td>\n",
       "      <td>Nicosia 2013 Vulkà Bianco  (Etna)</td>\n",
       "      <td>White Blend</td>\n",
       "      <td>Nicosia</td>\n",
       "    </tr>\n",
       "    <tr>\n",
       "      <th>1</th>\n",
       "      <td>1</td>\n",
       "      <td>Portugal</td>\n",
       "      <td>This is ripe and fruity, a wine that is smooth...</td>\n",
       "      <td>Avidagos</td>\n",
       "      <td>87</td>\n",
       "      <td>15.0</td>\n",
       "      <td>Douro</td>\n",
       "      <td>NaN</td>\n",
       "      <td>NaN</td>\n",
       "      <td>Roger Voss</td>\n",
       "      <td>@vossroger</td>\n",
       "      <td>Quinta dos Avidagos 2011 Avidagos Red (Douro)</td>\n",
       "      <td>Portuguese Red</td>\n",
       "      <td>Quinta dos Avidagos</td>\n",
       "    </tr>\n",
       "    <tr>\n",
       "      <th>2</th>\n",
       "      <td>2</td>\n",
       "      <td>US</td>\n",
       "      <td>Tart and snappy, the flavors of lime flesh and...</td>\n",
       "      <td>NaN</td>\n",
       "      <td>87</td>\n",
       "      <td>14.0</td>\n",
       "      <td>Oregon</td>\n",
       "      <td>Willamette Valley</td>\n",
       "      <td>Willamette Valley</td>\n",
       "      <td>Paul Gregutt</td>\n",
       "      <td>@paulgwine</td>\n",
       "      <td>Rainstorm 2013 Pinot Gris (Willamette Valley)</td>\n",
       "      <td>Pinot Gris</td>\n",
       "      <td>Rainstorm</td>\n",
       "    </tr>\n",
       "    <tr>\n",
       "      <th>3</th>\n",
       "      <td>3</td>\n",
       "      <td>US</td>\n",
       "      <td>Pineapple rind, lemon pith and orange blossom ...</td>\n",
       "      <td>Reserve Late Harvest</td>\n",
       "      <td>87</td>\n",
       "      <td>13.0</td>\n",
       "      <td>Michigan</td>\n",
       "      <td>Lake Michigan Shore</td>\n",
       "      <td>NaN</td>\n",
       "      <td>Alexander Peartree</td>\n",
       "      <td>NaN</td>\n",
       "      <td>St. Julian 2013 Reserve Late Harvest Riesling ...</td>\n",
       "      <td>Riesling</td>\n",
       "      <td>St. Julian</td>\n",
       "    </tr>\n",
       "    <tr>\n",
       "      <th>4</th>\n",
       "      <td>4</td>\n",
       "      <td>US</td>\n",
       "      <td>Much like the regular bottling from 2012, this...</td>\n",
       "      <td>Vintner's Reserve Wild Child Block</td>\n",
       "      <td>87</td>\n",
       "      <td>65.0</td>\n",
       "      <td>Oregon</td>\n",
       "      <td>Willamette Valley</td>\n",
       "      <td>Willamette Valley</td>\n",
       "      <td>Paul Gregutt</td>\n",
       "      <td>@paulgwine</td>\n",
       "      <td>Sweet Cheeks 2012 Vintner's Reserve Wild Child...</td>\n",
       "      <td>Pinot Noir</td>\n",
       "      <td>Sweet Cheeks</td>\n",
       "    </tr>\n",
       "  </tbody>\n",
       "</table>\n",
       "</div>"
      ],
      "text/plain": [
       "   Unnamed: 0   country                                        description  \\\n",
       "0           0     Italy  Aromas include tropical fruit, broom, brimston...   \n",
       "1           1  Portugal  This is ripe and fruity, a wine that is smooth...   \n",
       "2           2        US  Tart and snappy, the flavors of lime flesh and...   \n",
       "3           3        US  Pineapple rind, lemon pith and orange blossom ...   \n",
       "4           4        US  Much like the regular bottling from 2012, this...   \n",
       "\n",
       "                          designation  points  price           province  \\\n",
       "0                        Vulkà Bianco      87    NaN  Sicily & Sardinia   \n",
       "1                            Avidagos      87   15.0              Douro   \n",
       "2                                 NaN      87   14.0             Oregon   \n",
       "3                Reserve Late Harvest      87   13.0           Michigan   \n",
       "4  Vintner's Reserve Wild Child Block      87   65.0             Oregon   \n",
       "\n",
       "              region_1           region_2         taster_name  \\\n",
       "0                 Etna                NaN       Kerin O’Keefe   \n",
       "1                  NaN                NaN          Roger Voss   \n",
       "2    Willamette Valley  Willamette Valley        Paul Gregutt   \n",
       "3  Lake Michigan Shore                NaN  Alexander Peartree   \n",
       "4    Willamette Valley  Willamette Valley        Paul Gregutt   \n",
       "\n",
       "  taster_twitter_handle                                              title  \\\n",
       "0          @kerinokeefe                  Nicosia 2013 Vulkà Bianco  (Etna)   \n",
       "1            @vossroger      Quinta dos Avidagos 2011 Avidagos Red (Douro)   \n",
       "2           @paulgwine       Rainstorm 2013 Pinot Gris (Willamette Valley)   \n",
       "3                   NaN  St. Julian 2013 Reserve Late Harvest Riesling ...   \n",
       "4           @paulgwine   Sweet Cheeks 2012 Vintner's Reserve Wild Child...   \n",
       "\n",
       "          variety               winery  \n",
       "0     White Blend              Nicosia  \n",
       "1  Portuguese Red  Quinta dos Avidagos  \n",
       "2      Pinot Gris            Rainstorm  \n",
       "3        Riesling           St. Julian  \n",
       "4      Pinot Noir         Sweet Cheeks  "
      ]
     },
     "execution_count": 7,
     "metadata": {},
     "output_type": "execute_result"
    }
   ],
   "source": [
    "wine_pd.head()"
   ]
  },
  {
   "cell_type": "markdown",
   "id": "2acebaec",
   "metadata": {},
   "source": [
    "## EDA"
   ]
  },
  {
   "cell_type": "code",
   "execution_count": 8,
   "id": "ca6f713f",
   "metadata": {},
   "outputs": [
    {
     "name": "stderr",
     "output_type": "stream",
     "text": [
      "/Users/zhanmingxiao/miniconda3/envs/509/lib/python3.10/site-packages/sklearn/preprocessing/_encoders.py:975: FutureWarning: `sparse` was renamed to `sparse_output` in version 1.2 and will be removed in 1.4. `sparse_output` is ignored unless you leave `sparse` to its default value.\n",
      "  warnings.warn(\n"
     ]
    }
   ],
   "source": [
    "import pandas as pd\n",
    "from sklearn.model_selection import train_test_split\n",
    "from sklearn.preprocessing import OneHotEncoder, StandardScaler\n",
    "\n",
    "# Step 1: Sample a subset of the data\n",
    "wine_subset = wine_pd.sample(frac=0.1, random_state=42)  # Adjust fraction as needed\n",
    "\n",
    "# Step 2: Preprocess the data\n",
    "selected_features = ['country', 'province', 'variety', 'winery', 'points']\n",
    "wine_subset = wine_subset[selected_features]\n",
    "\n",
    "# Adding encoding to the categorical columns for improving analysis\n",
    "categorical_cols = ['country', 'province', 'variety', 'winery']\n",
    "encoder = OneHotEncoder(handle_unknown='ignore', sparse=False)\n",
    "encoded_cols = pd.DataFrame(encoder.fit_transform(wine_subset[categorical_cols]))\n",
    "encoded_cols.index = wine_subset.index\n",
    "wine_encoded = pd.concat([wine_subset.drop(categorical_cols, axis=1), encoded_cols], axis=1)\n",
    "\n",
    "# Step 3: Split the data into training and testing sets\n",
    "X = wine_encoded.drop('points', axis=1)\n",
    "y = wine_encoded['points']\n",
    "X_train, X_test, y_train, y_test = train_test_split(X, y, test_size=0.2, random_state=42)\n",
    "\n",
    "# Optional: Standardize features\n",
    "scaler = StandardScaler()\n",
    "X_train_scaled = scaler.fit_transform(X_train)\n",
    "X_test_scaled = scaler.transform(X_test)"
   ]
  },
  {
   "cell_type": "code",
   "execution_count": 9,
   "id": "e7c4b31e",
   "metadata": {},
   "outputs": [
    {
     "data": {
      "image/png": "[encoded data removed]",
      "text/plain": [
       "<Figure size 800x600 with 1 Axes>"
      ]
     },
     "metadata": {},
     "output_type": "display_data"
    }
   ],
   "source": [
    "import matplotlib.pyplot as plt\n",
    "\n",
    "# Plotting histogram for points column to check the distribution\n",
    "plt.figure(figsize=(8, 6))\n",
    "plt.hist(wine_pd['points'], bins=20, color='skyblue', edgecolor='black')\n",
    "plt.title('Distribution of Wine Points')\n",
    "plt.xlabel('Points')\n",
    "plt.ylabel('Frequency')\n",
    "plt.grid(True)\n",
    "plt.show()"
   ]
  },
  {
   "cell_type": "markdown",
   "id": "dd306b64",
   "metadata": {},
   "source": [
    "#### The points column, which we aim to predict, ranges from 80 to 100, with a mean score of approximately 88.44. The distribution of wine points is fairly normal, indicating a good range of quality scores in the dataset.\n",
    "#### There are missing values in several columns, notably in designation, price, region_1, region_2, taster_name, and taster_twitter_handle. However, for the purpose of predicting wine quality (points), we may not need all these features.\n",
    "#### The price column, which we will avoid for our analysis might not be a significant predictor of wine quality and it also has 8,996 missing values. Hence, it does not really bring any significant value which is why we exclude it from our analysis."
   ]
  },
  {
   "cell_type": "markdown",
   "id": "cf80e258",
   "metadata": {},
   "source": [
    "## Decreasing Dimensionality of the dataset"
   ]
  },
  {
   "cell_type": "code",
   "execution_count": 10,
   "id": "df8063ba",
   "metadata": {},
   "outputs": [
    {
     "name": "stdout",
     "output_type": "stream",
     "text": [
      "Shape of X_train after PCA: (10397, 3)\n",
      "Shape of X_test after PCA: (2600, 3)\n"
     ]
    }
   ],
   "source": [
    "from sklearn.decomposition import PCA\n",
    "from sklearn.compose import ColumnTransformer\n",
    "from sklearn.pipeline import Pipeline\n",
    "\n",
    "# Define the columns to apply PCA on (categorical columns)\n",
    "categorical_cols = [0, 1, 2, 3]  # Assuming the categorical columns are the first four columns\n",
    "\n",
    "# Define a pipeline for preprocessing\n",
    "preprocessor = ColumnTransformer(\n",
    "    transformers=[\n",
    "        ('num', 'passthrough', [4]),  # Pass through points column as it is numerical (assuming it's the 5th column)\n",
    "        ('cat', OneHotEncoder(), categorical_cols)  # One-hot encode categorical columns\n",
    "    ])\n",
    "\n",
    "# Create a pipeline with preprocessing and PCA\n",
    "pca_pipe = Pipeline([\n",
    "    ('preprocessor', preprocessor),\n",
    "    ('pca', PCA(n_components=0.95))  # Preserve 95% of variance\n",
    "])\n",
    "\n",
    "# Fit and transform the training set\n",
    "X_train_pca = pca_pipe.fit_transform(X_train_scaled)\n",
    "\n",
    "# Transform the test set (using the parameters learned from training set)\n",
    "X_test_pca = pca_pipe.transform(X_test_scaled)\n",
    "\n",
    "# Print the shape of the transformed data\n",
    "print(\"Shape of X_train after PCA:\", X_train_pca.shape)\n",
    "print(\"Shape of X_test after PCA:\", X_test_pca.shape)\n"
   ]
  },
  {
   "cell_type": "markdown",
   "id": "dc69e200",
   "metadata": {},
   "source": [
    "## Regression models"
   ]
  },
  {
   "cell_type": "code",
   "execution_count": 11,
   "id": "e7dfc064",
   "metadata": {},
   "outputs": [
    {
     "name": "stdout",
     "output_type": "stream",
     "text": [
      "Linear Regression RMSE: 3.099584028196865\n",
      "Ridge Regression RMSE: 3.099578732245382\n",
      "Lasso Regression RMSE: 3.1171824440162603\n",
      "Ridge Regression is the best-performing model.\n"
     ]
    }
   ],
   "source": [
    "from sklearn.linear_model import LinearRegression, Ridge, Lasso\n",
    "from sklearn.metrics import mean_squared_error\n",
    "\n",
    "# Train Linear Regression model\n",
    "linear_reg = LinearRegression()\n",
    "linear_reg.fit(X_train_pca, y_train)\n",
    "\n",
    "# Train Ridge Regression model\n",
    "ridge_reg = Ridge(alpha=1.0)  # You can adjust the regularization strength (alpha) as needed\n",
    "ridge_reg.fit(X_train_pca, y_train)\n",
    "\n",
    "# Train Lasso Regression model\n",
    "lasso_reg = Lasso(alpha=1.0)  # You can adjust the regularization strength (alpha) as needed\n",
    "lasso_reg.fit(X_train_pca, y_train)\n",
    "\n",
    "# Evaluate models using RMSE\n",
    "def calculate_rmse(model, X, y):\n",
    "    y_pred = model.predict(X)\n",
    "    rmse = mean_squared_error(y, y_pred, squared=False)\n",
    "    return rmse\n",
    "\n",
    "linear_rmse = calculate_rmse(linear_reg, X_test_pca, y_test)\n",
    "ridge_rmse = calculate_rmse(ridge_reg, X_test_pca, y_test)\n",
    "lasso_rmse = calculate_rmse(lasso_reg, X_test_pca, y_test)\n",
    "\n",
    "# Print RMSE for each model\n",
    "print(\"Linear Regression RMSE:\", linear_rmse)\n",
    "print(\"Ridge Regression RMSE:\", ridge_rmse)\n",
    "print(\"Lasso Regression RMSE:\", lasso_rmse)\n",
    "\n",
    "# Select the best-performing model\n",
    "best_model = min(linear_rmse, ridge_rmse, lasso_rmse)\n",
    "if best_model == linear_rmse:\n",
    "    print(\"Linear Regression is the best-performing model.\")\n",
    "elif best_model == ridge_rmse:\n",
    "    print(\"Ridge Regression is the best-performing model.\")\n",
    "else:\n",
    "    print(\"Lasso Regression is the best-performing model.\")"
   ]
  },
  {
   "cell_type": "code",
   "execution_count": 12,
   "id": "593a4a91",
   "metadata": {},
   "outputs": [
    {
     "name": "stdout",
     "output_type": "stream",
     "text": [
      "R-squared: -6.456290617914828e+26\n",
      "Adjusted R-squared: 3.682224998016379e+26\n"
     ]
    }
   ],
   "source": [
    "from sklearn.metrics import r2_score\n",
    "import numpy as np\n",
    "from sklearn.linear_model import LinearRegression\n",
    "from sklearn.model_selection import train_test_split\n",
    "from sklearn.decomposition import PCA\n",
    "\n",
    "# Train a Linear Regression model\n",
    "linear_reg = LinearRegression()\n",
    "linear_reg.fit(X_train_scaled, y_train)\n",
    "\n",
    "# Predict on the test set\n",
    "y_pred = linear_reg.predict(X_test_scaled)\n",
    "\n",
    "# Calculate R-squared\n",
    "r_squared = r2_score(y_test, y_pred)\n",
    "print(\"R-squared:\", r_squared)\n",
    "\n",
    "# Calculate adjusted R-squared\n",
    "n = len(y_test)\n",
    "p = X_test_scaled.shape[1]  # Number of predictors/features\n",
    "adjusted_r_squared = 1 - (1 - r_squared) * ((n - 1) / (n - p - 1))\n",
    "print(\"Adjusted R-squared:\", adjusted_r_squared)"
   ]
  },
  {
   "cell_type": "markdown",
   "id": "9a9a0954",
   "metadata": {},
   "source": [
    "#### High multicollinearity among predictors can inflate R-squared values, making it challenging to discern the true contributions of individual predictors to the target variable. This can occur when predictors are highly correlated with each other, leading to unstable estimates of regression coefficients."
   ]
  },
  {
   "cell_type": "code",
   "execution_count": 13,
   "id": "3186af98",
   "metadata": {},
   "outputs": [
    {
     "data": {
      "image/png": "[encoded data removed]",
      "text/plain": [
       "<Figure size 1000x600 with 1 Axes>"
      ]
     },
     "metadata": {},
     "output_type": "display_data"
    }
   ],
   "source": [
    "import numpy as np\n",
    "import matplotlib.pyplot as plt\n",
    "from sklearn.metrics import mean_squared_error\n",
    "from scipy.stats import chi2\n",
    "\n",
    "# Calculate residuals\n",
    "residuals = y_test - y_pred\n",
    "\n",
    "# Calculate leverage\n",
    "n, p = X_test_pca.shape\n",
    "H = np.dot(X_test_pca, np.dot(np.linalg.inv(np.dot(X_train_pca.T, X_train_pca)), X_test_pca.T))\n",
    "leverage = np.diagonal(H)\n",
    "\n",
    "# Compute Cook's distance\n",
    "mse = mean_squared_error(y_test, y_pred)\n",
    "cooks_d = (residuals**2 / mse) * leverage / (p * (1 - leverage))\n",
    "\n",
    "# Calculate the critical value for Cook's distance (threshold)\n",
    "alpha = 0.05  # significance level\n",
    "threshold = chi2.ppf(1 - alpha, p)\n",
    "\n",
    "# Plot Cook's distance\n",
    "plt.figure(figsize=(10, 6))\n",
    "plt.plot(cooks_d, 'bo', markersize=5)\n",
    "plt.xlabel('Index')\n",
    "plt.ylabel(\"Cook's Distance\")\n",
    "plt.title(\"Cook's Distance Plot\")\n",
    "plt.axhline(y=threshold, color='r', linestyle='--', label='Threshold')\n",
    "plt.legend()\n",
    "plt.show()"
   ]
  },
  {
   "cell_type": "code",
   "execution_count": null,
   "id": "f579fc78",
   "metadata": {},
   "outputs": [],
   "source": []
  }
 ],
 "metadata": {
  "kernelspec": {
   "display_name": "Python 3 (ipykernel)",
   "language": "python",
   "name": "python3"
  },
  "language_info": {
   "codemirror_mode": {
    "name": "ipython",
    "version": 3
   },
   "file_extension": ".py",
   "mimetype": "text/x-python",
   "name": "python",
   "nbconvert_exporter": "python",
   "pygments_lexer": "ipython3",
   "version": "3.10.0"
  }
 },
 "nbformat": 4,
 "nbformat_minor": 5
}
